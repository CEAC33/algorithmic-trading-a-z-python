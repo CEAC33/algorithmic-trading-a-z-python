{
 "cells": [
  {
   "cell_type": "markdown",
   "id": "sitting-brunswick",
   "metadata": {},
   "source": [
    "\n",
    "## Getting Started\n",
    "\n",
    "### What is Algorithmic Trading?\n",
    "\n",
    "**2 Major Aspects of Algo Trading**\n",
    "\n",
    "- Clear Strategy/Plan\n",
    "  - Pre-programmed Rules / Algorithms\n",
    "  - Learning Algorithms (Machine Learning / AI)\n",
    "- Automated Trading\n",
    "  - Trades executed by computers not humans\n",
    "  - High-Frequency Trading (HFT)\n",
    "  - Complex strategies / algorithms\n",
    " \n",
    "\n",
    "**Applications and Use Cases**\n",
    "\n",
    "Transaction cost reduction (VWAP, TWAP, Implementation Shortfall)\n",
    "- Break down large orders into small orders to be placed over time\n",
    "\n",
    "Portfolio Rebalancing\n",
    "- Rebalance portfolio constituents to target weights\n",
    "\n",
    "Robo Investing / Robo Advising\n",
    "- Asset Allocation, Portfolio Optimization, Portfolio Management and Rebalancing with minimal human intervention (for long-term investments)\n",
    "\n",
    "Market Timing (\"alpha-generating strategies\")\n",
    "- Timing trades (long and short positions) to benefit from mispricing / market inefficiencies\n",
    "- Independent from general market trends (works in bull and bear markets)\n",
    "- Technical indicators (e.g. Moving Averages) and other Pattern Recognition Techniques (Machine Learning / AI) are used\n",
    "\n",
    "**Overview:**\n",
    "\n",
    "Prerequisites:\n",
    "- Python\n",
    "- Day Trading\n",
    "\n",
    "Define Strategy:\n",
    "- Technical Indicators\n",
    "- Machine Learning\n",
    "\n",
    "Test Strategy:\n",
    "- Backtesting / Forward Testing\n",
    "- Live Testing\n",
    "\n",
    "Implementation & Automation\n",
    "\n",
    "Expert Tips and Tricks\n",
    "\n",
    "In some Countries, CFD/FOREX Trading is prohibited / Brokers not available (Japan, Korea, Russia, Turkey)\n",
    "\n",
    "\n",
    "\n"
   ]
  }
 ],
 "metadata": {
  "kernelspec": {
   "display_name": "Python 3",
   "language": "python",
   "name": "python3"
  },
  "language_info": {
   "codemirror_mode": {
    "name": "ipython",
    "version": 3
   },
   "file_extension": ".py",
   "mimetype": "text/x-python",
   "name": "python",
   "nbconvert_exporter": "python",
   "pygments_lexer": "ipython3",
   "version": "3.8.3"
  }
 },
 "nbformat": 4,
 "nbformat_minor": 5
}
